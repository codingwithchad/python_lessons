{
 "cells": [
  {
   "cell_type": "markdown",
   "metadata": {},
   "source": [
    "### Review Lesson 3 Homework\n",
    "\n",
    "Game Loop Battle with Function\n",
    "\n",
    "Is there only Functions in the game loop?\n",
    "Is there a comment for each funtion that explains what the function does?"
   ]
  },
  {
   "cell_type": "markdown",
   "metadata": {},
   "source": [
    "# Lesson 4\n",
    "Let the Games Begin\n",
    "\n",
    "### Pygame\n",
    "Check out [https://www.pygame.org/news](https://www.pygame.org/news) for more information about pygame.\n",
    "\n",
    "Todays lesson We will be using **Pygame Tutorial for Beginners - Python Game Development Course** [https://youtu.be/FfWpgLFMI7w?t=155](https://youtu.be/FfWpgLFMI7w?t=155) from youtube as our guide\n",
    "1) Use the `import` statement.\n",
    "  - Import pygame\n",
    "  - import the pygame package via Pycharm \n",
    "      - file -> Settings...\n",
    "      - in settings go to \"project name\"\n",
    "      - Project interpreter\n",
    "      - Press the plus and search for pygame\n",
    "      - Click on install package\n",
    "  \n",
    "  - import pygame via pip install\n",
    "      - Open the terminal and type 'pip install pygame'\n",
    "    \n",
    "2) Create a game window\n",
    "3) Create the game loop\n",
    "4) Add a quit event\n",
    "5) Add a title, logo, and background color"
   ]
  },
  {
   "cell_type": "code",
   "execution_count": null,
   "metadata": {},
   "outputs": [],
   "source": [
    "### Import pygame and initialize"
   ]
  },
  {
   "cell_type": "code",
   "execution_count": null,
   "metadata": {},
   "outputs": [],
   "source": [
    "# Import pygame\n",
    "# if there is a red squiggle under pygame, \n",
    "# you need to install pygame\n",
    "import pygame \n",
    "\n",
    "# To access anything from pygame use pygame.init()\n",
    "# Initialize the pygame\n",
    "pygame.init()"
   ]
  },
  {
   "cell_type": "markdown",
   "metadata": {},
   "source": [
    "### Create the Game Window\n",
    "For more information about pygame.display read the documentation at [https://www.pygame.org/docs/ref/display.html](https://www.pygame.org/docs/ref/display.html)"
   ]
  },
  {
   "cell_type": "code",
   "execution_count": null,
   "metadata": {},
   "outputs": [],
   "source": [
    "import pygame\n",
    "\n",
    "# Initialize the pygame\n",
    "pygame.init()\n",
    "\n",
    "# Create the game window\n",
    "# Notice the tuple inside the function call, \n",
    "# that is why there are two sets of brackets\n",
    "screen_width = 800\n",
    "screen_height = 600\n",
    "\n",
    "# Create the Screen\n",
    "screen = pygame.display.set_mode((screen_width,screen_height))\n",
    "\n",
    "# This is used to show the screen\n",
    "# while True:\n",
    "#     pass\n"
   ]
  },
  {
   "cell_type": "markdown",
   "metadata": {},
   "source": [
    "### Add the game loop\n",
    "#### Add an exit event\n",
    "Without the exit event, the loop would be endless\n",
    "\n",
    "Every mouse click, or keyboard press is an event. \n",
    "We need an event to check of the X button is pressed to close the window.\n",
    "\n",
    "Everything that happens in the game needs to happen inside the game loop.\n"
   ]
  },
  {
   "cell_type": "code",
   "execution_count": null,
   "metadata": {},
   "outputs": [],
   "source": [
    "import pygame\n",
    "\n",
    "# Initialize the pygame\n",
    "pygame.init()\n",
    "\n",
    "# Create the game window\n",
    "# Notice the tuple inside the function call, \n",
    "# that is why there are two sets of brackets\n",
    "screen_width = 800\n",
    "screen_height = 600\n",
    "\n",
    "# Create the Screen\n",
    "screen = pygame.display.set_mode((screen_width,screen_height))\n",
    "\n",
    "# A boolean while the game is running\n",
    "running = True\n",
    "\n",
    "# Beginning of the game loop\n",
    "while running:\n",
    "    # Take all the events that are happening\n",
    "    # Check if the 'x' button is pressed\n",
    "    for event in pygame.event.get():\n",
    "        if event.type == pygame.QUIT:\n",
    "            running = False\n",
    "            \n",
    "print(\"GAME OVER\")\n",
    "\n"
   ]
  },
  {
   "cell_type": "markdown",
   "metadata": {},
   "source": [
    "### Change the title, logo, and background color of game window\n",
    "\n"
   ]
  },
  {
   "cell_type": "markdown",
   "metadata": {},
   "source": [
    "Gather an image\n",
    "navigate to [www.flaticon.com](www.flaticon.com)  \n",
    "Search for spaceship or any other icon  \n",
    "save the icon as ufo.png  \n",
    "Save as **PNG**   \n",
    "Select Size **32** pixels  This is very important.  \n",
    "Download the icon  \n",
    "Move the png file into the same folder as `main.py`  "
   ]
  },
  {
   "cell_type": "markdown",
   "metadata": {},
   "source": [
    "\n",
    "Title and Icon  \n",
    "`pygame.display.set_caption(\"Seagull Invaders)`  \n",
    "`icon = pygame.image.load('bird.png')`  \n",
    "`pygame.display.set_icon(icon)`\n",
    "\n",
    "Change background\n",
    "Needs to be placed inside the game loop\n",
    "Notice the tuple (Red, Green, Blue)\n",
    "All values can go from 0 - 255 google rgb color picker for a cheat sheet.\n",
    "We can pre define colors also\n",
    "WHITE = (200, 200, 200)\n",
    "BLACK = (0, 0, 0)\n",
    "BLUE = (30, 144, 255)\n",
    "GREEN = (60, 179, 113)\n",
    "RED = (178, 0, 0)\n",
    "\n",
    "\n",
    "`screen.fill((0, 0, 0))`\n"
   ]
  },
  {
   "cell_type": "code",
   "execution_count": 6,
   "metadata": {},
   "outputs": [
    {
     "name": "stdout",
     "output_type": "stream",
     "text": [
      "pygame 1.9.6\n",
      "Hello from the pygame community. https://www.pygame.org/contribute.html\n"
     ]
    },
    {
     "ename": "error",
     "evalue": "Couldn't open bird.png",
     "output_type": "error",
     "traceback": [
      "\u001b[1;31m---------------------------------------------------------------------------\u001b[0m",
      "\u001b[1;31merror\u001b[0m                                     Traceback (most recent call last)",
      "\u001b[1;32m<ipython-input-6-ae29f342ba27>\u001b[0m in \u001b[0;36m<module>\u001b[1;34m\u001b[0m\n\u001b[0;32m     14\u001b[0m \u001b[1;33m\u001b[0m\u001b[0m\n\u001b[0;32m     15\u001b[0m \u001b[0mpygame\u001b[0m\u001b[1;33m.\u001b[0m\u001b[0mdisplay\u001b[0m\u001b[1;33m.\u001b[0m\u001b[0mset_caption\u001b[0m\u001b[1;33m(\u001b[0m\u001b[1;34m\"Seagull Invaders\"\u001b[0m\u001b[1;33m)\u001b[0m\u001b[1;33m\u001b[0m\u001b[0m\n\u001b[1;32m---> 16\u001b[1;33m \u001b[0micon\u001b[0m \u001b[1;33m=\u001b[0m \u001b[0mpygame\u001b[0m\u001b[1;33m.\u001b[0m\u001b[0mimage\u001b[0m\u001b[1;33m.\u001b[0m\u001b[0mload\u001b[0m\u001b[1;33m(\u001b[0m\u001b[1;34m'bird.png'\u001b[0m\u001b[1;33m)\u001b[0m\u001b[1;33m\u001b[0m\u001b[0m\n\u001b[0m\u001b[0;32m     17\u001b[0m \u001b[0mpygame\u001b[0m\u001b[1;33m.\u001b[0m\u001b[0mdisplay\u001b[0m\u001b[1;33m.\u001b[0m\u001b[0mset_icon\u001b[0m\u001b[1;33m(\u001b[0m\u001b[0micon\u001b[0m\u001b[1;33m)\u001b[0m\u001b[1;33m\u001b[0m\u001b[0m\n\u001b[0;32m     18\u001b[0m \u001b[1;33m\u001b[0m\u001b[0m\n",
      "\u001b[1;31merror\u001b[0m: Couldn't open bird.png"
     ]
    }
   ],
   "source": [
    "import pygame\n",
    "\n",
    "# Initialize the pygame\n",
    "pygame.init()\n",
    "\n",
    "# Create the game window\n",
    "# Notice the tuple inside the function call, \n",
    "# that is why there are two sets of brackets\n",
    "screen_width = 800\n",
    "screen_height = 600\n",
    "\n",
    "# Create the Screen\n",
    "screen = pygame.display.set_mode((screen_width,screen_height))\n",
    "\n",
    "pygame.display.set_caption(\"Seagull Invaders\")\n",
    "icon = pygame.image.load('bird.png')\n",
    "pygame.display.set_icon(icon)\n",
    "\n",
    "\n",
    "# A boolean while the game is running\n",
    "running = True\n",
    "\n",
    "# Beginning of the game loop\n",
    "while running:\n",
    "    # Take all the events that are happening\n",
    "    # Check if the 'x' button is pressed\n",
    "    for event in pygame.event.get():\n",
    "        if event.type == pygame.QUIT:\n",
    "            running = False\n",
    "\n",
    "    \n",
    "    # What color is this going to display?\n",
    "    screen.fill(0, 0, 255)\n",
    "    pygame.display.update() # This line needs to be present to make anything on the screen move.\n",
    "            \n",
    "print(\"GAME OVER\")\n",
    "\n"
   ]
  },
  {
   "cell_type": "markdown",
   "metadata": {},
   "source": [
    "### Homework\n",
    "Get pygame up and running \n",
    "Get the init working\n",
    "Get the pygame.QUIT working\n",
    "Pick a Title, and an icon.\n",
    "Get the background color working. \n",
    "\n",
    "Just play with what you know so far and get more famaliar with python and pygame"
   ]
  }
 ],
 "metadata": {
  "kernelspec": {
   "display_name": "Python 3",
   "language": "python",
   "name": "python3"
  },
  "language_info": {
   "codemirror_mode": {
    "name": "ipython",
    "version": 3
   },
   "file_extension": ".py",
   "mimetype": "text/x-python",
   "name": "python",
   "nbconvert_exporter": "python",
   "pygments_lexer": "ipython3",
   "version": "3.7.0"
  }
 },
 "nbformat": 4,
 "nbformat_minor": 4
}
