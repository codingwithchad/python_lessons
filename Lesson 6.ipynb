{
 "cells": [
  {
   "cell_type": "markdown",
   "metadata": {},
   "source": [
    "Homework Review\n",
    "Get a player image Put the image on the screen.\n",
    "Move the player around using the X and Y coordinates.\n",
    "Get the background color working.\n",
    "\n"
   ]
  },
  {
   "cell_type": "markdown",
   "metadata": {},
   "source": [
    "Shooting bullets\n",
    "\n",
    "x coordinate of the bullet starting position\n",
    "needs to be equal to the spaceship\n",
    "Then the bullet needs to move independately from the spaceship\n",
    "\n",
    "The bullets y value is decreasing as it goes closer to the top\n",
    "When the bullet leaves the screen, it needs to be removed.\n",
    "\n",
    "\n",
    "Bullet will have state\n",
    "atready when the bullet\n",
    "\n",
    "Now think about how that would translate to Zelda, where you would go in 4 directions.\n",
    "\n",
    "We use a new keywork `global` \n",
    "In Python, global keyword allows you to modify the variable outside of the current scope. It is used to create a global variable and make changes to the variable in a local context.\n",
    "\n",
    "\n",
    "Here is more information on global.\n",
    "https://www.programiz.com/python-programming/global-keyword"
   ]
  },
  {
   "cell_type": "code",
   "execution_count": null,
   "metadata": {},
   "outputs": [],
   "source": [
    "# The speed the bullet will change\n",
    "bulletImg = pygame.image.load('bullet.png')\n",
    "bulletX = 0\n",
    "bulletY = 480\n",
    "bulletX_change = 0\n",
    "bulletY_change = 10\n",
    "bullet_state = \"ready\"\n",
    "\n",
    "# Fire Bullet\n",
    "def fire_bullet(x, y):\n",
    "    global bullet_state\n",
    "    bullet_state = \"fire\"\n",
    "    # +16 will center the bullet on the spaceship\n",
    "    screen.blit(bulletImg, (x + 16, y + 10))\n",
    "    \n",
    " # inside the game loop\n",
    "\n",
    "# If keystroke was pressed, check for spacebar for shotting\n",
    "if event.type == pygame.KEYDOWN:\n",
    "    if event.key == pygame.K_SPACE:\n",
    "        if bullet_state is \"ready\":\n",
    "            # Get the current x cordinate of the spaceship\n",
    "            bulletX = playerX\n",
    "            # call the firebullet function\n",
    "            fire_bullet(bulletX, bulletY)\n",
    "    \n",
    " # Bullet Movement\n",
    " # Notice if the y is lessthan or equal to zero\n",
    " # The bullet get put back to ready state.\n",
    "    if bulletY <= 0:\n",
    "        bulletY = 480\n",
    "        bullet_state = \"ready\"\n",
    "\n",
    " # If the bullet state is fire, then the fire_bullet function is available.\n",
    " # this will call the fire_bullet function and move the bullet the bulletY_change amount.\n",
    "    if bullet_state is \"fire\":\n",
    "        fire_bullet(bulletX, bulletY)\n",
    "        bulletY -= bulletY_change\n",
    "      \n",
    "   "
   ]
  }
 ],
 "metadata": {
  "kernelspec": {
   "display_name": "Python 3",
   "language": "python",
   "name": "python3"
  },
  "language_info": {
   "codemirror_mode": {
    "name": "ipython",
    "version": 3
   },
   "file_extension": ".py",
   "mimetype": "text/x-python",
   "name": "python",
   "nbconvert_exporter": "python",
   "pygments_lexer": "ipython3",
   "version": "3.7.0"
  }
 },
 "nbformat": 4,
 "nbformat_minor": 4
}
