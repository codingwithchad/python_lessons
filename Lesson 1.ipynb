{
 "cells": [
  {
   "cell_type": "markdown",
   "metadata": {},
   "source": [
    "## Python Baics"
   ]
  },
  {
   "cell_type": "markdown",
   "metadata": {},
   "source": [
    "### Syntax"
   ]
  },
  {
   "cell_type": "code",
   "execution_count": 2,
   "metadata": {
    "scrolled": true
   },
   "outputs": [
    {
     "name": "stdout",
     "output_type": "stream",
     "text": [
      "five is greater than two\n"
     ]
    }
   ],
   "source": [
    "# Good Indentation\n",
    "if 5 > 2:\n",
    "    print(\"five is greater than two\")\n"
   ]
  },
  {
   "cell_type": "code",
   "execution_count": null,
   "metadata": {},
   "outputs": [],
   "source": [
    "# Bad, No Indentation\n",
    "# Syntax Error\n",
    "if 5 > 2:\n",
    "print(\"five is greater than two\")"
   ]
  },
  {
   "cell_type": "code",
   "execution_count": null,
   "metadata": {},
   "outputs": [],
   "source": [
    "# Bad to great of indentation\n",
    "# Syntax Error\n",
    "if 5 > 2:\n",
    "        print(\"five is greater than two\")"
   ]
  },
  {
   "cell_type": "markdown",
   "metadata": {},
   "source": [
    "### Comments and variables  \n",
    "[comments](https://www.w3schools.com/python/python_comments.asp)  \n",
    "[variables](https://www.w3schools.com/python/python_variables.asp)"
   ]
  },
  {
   "cell_type": "code",
   "execution_count": 14,
   "metadata": {},
   "outputs": [
    {
     "name": "stdout",
     "output_type": "stream",
     "text": [
      "John\n",
      "45\n"
     ]
    }
   ],
   "source": [
    "'''\n",
    "Multi line comments start with three single quotes\n",
    "Comments can help explain your code\n",
    "\n",
    "Variables store data\n",
    "'''\n",
    "# single line comments start after with #\n",
    "first_name = \"John\" # Comments come after the # \n",
    "# last_name = \"Johnson\"\n",
    "age = 45 # Comments can also be used to not run part of the code\n",
    "print(first_name)\n",
    "# print(last_name)\n",
    "print(age)"
   ]
  },
  {
   "cell_type": "markdown",
   "metadata": {},
   "source": [
    "### Data Types\n",
    "[Data Types](https://www.w3schools.com/python/python_datatypes.asp)\n",
    "- Text Type: str\n",
    "- Numeric Types: int, float\n",
    "- Sequence Types: list, tuple, range\n",
    "- Boolean Type: bool\n",
    "- Mapping Type: Dictionary"
   ]
  },
  {
   "cell_type": "code",
   "execution_count": null,
   "metadata": {},
   "outputs": [],
   "source": [
    "# A string\n",
    "myString = \"This is awesome!\"\n",
    "print(type(myString))\n",
    "\n",
    "# int\n",
    "kilometers = 50\n",
    "print(type(kilometers))\n",
    "\n",
    "# float \n",
    "account_balance = 3.50\n",
    "print(type(account_balance))\n",
    "\n",
    "# List uses the square brackets []\n",
    "shopping_list = [\"Hamburger\", \"Hamburger Buns\", \"Coke\"]\n",
    "print(type(shopping_list))\n",
    "\n",
    "# Tuple uses the () brackets\n",
    "# Tuples are often used for RGB colors\n",
    "white = (255, 255, 255)\n",
    "print(type(white))\n",
    "\n",
    "# Range is used to count\n",
    "theCount = range(10)\n",
    "print(type(theCount))\n",
    "\n",
    "# Dictionary\n",
    "myInfo = {\"name\": \"Chad\", \"age\": 40}\n",
    "print(type(myInfo))\n"
   ]
  },
  {
   "cell_type": "markdown",
   "metadata": {},
   "source": [
    "### casting\n",
    "Casting mean change the data type from one to another\n",
    "an int variable can't be printed along with a string.\n",
    "This is also string concatanation which is covered later"
   ]
  },
  {
   "cell_type": "code",
   "execution_count": null,
   "metadata": {
    "scrolled": true
   },
   "outputs": [],
   "source": [
    "# TypeError: can only concatenate str (not \"int\") to str\n",
    "first_name = \"Mary\"\n",
    "number_of_chickens = 8\n",
    "print(\"hello my name is \" + first_name + \" and I have \" + number_of_chickens + \" chickens\")"
   ]
  },
  {
   "cell_type": "code",
   "execution_count": null,
   "metadata": {},
   "outputs": [],
   "source": [
    "# This should print correctly\n",
    "first_name = \"Mary\"\n",
    "number_of_chickens = 8\n",
    "print(\"hello my name is \" + first_name + \" and I have \" + str(number_of_chickens) + \" chickens\")"
   ]
  },
  {
   "cell_type": "code",
   "execution_count": 6,
   "metadata": {},
   "outputs": [
    {
     "name": "stdout",
     "output_type": "stream",
     "text": [
      "hello my name is Mary  and I have 8  chickens\n"
     ]
    }
   ],
   "source": [
    "# Using String formating (python 3.6 and higer) no need to cast int to string\n",
    "first_name = \"Mary\"\n",
    "number_of_chickens = 8\n",
    "print(f\"hello my name is {first_name}  and I have {number_of_chickens}  chickens\")"
   ]
  },
  {
   "cell_type": "markdown",
   "metadata": {},
   "source": [
    "Strings [https://www.w3schools.com/python/python_strings.asp] (https://www.w3schools.com/python/python_strings.asp)\n",
    "- String Literal\n",
    "- String Variable\n",
    "- String Concatenation\n",
    "- String Format\n"
   ]
  },
  {
   "cell_type": "code",
   "execution_count": 2,
   "metadata": {},
   "outputs": [
    {
     "name": "stdout",
     "output_type": "stream",
     "text": [
      "Hello World\n",
      "Hello World\n",
      "Hello Jim\n",
      "H\n"
     ]
    }
   ],
   "source": [
    "# String Literals\n",
    "print(\"Hello World\")\n",
    "\n",
    "# String as variable\n",
    "greetings = \"Hello World\"\n",
    "print(greeting)\n",
    "\n",
    "# String Concatenation\n",
    "greeting0 =\"Hello\"\n",
    "greeting1 = \"Jim\" \n",
    "print(greeting0 + \" \" + greeting1)\n",
    "\n",
    "# Strings are a list\n",
    "greeting = \"Hi my name is\"\n",
    "print(greeting[0])"
   ]
  },
  {
   "cell_type": "markdown",
   "metadata": {},
   "source": [
    "Boolean"
   ]
  },
  {
   "cell_type": "code",
   "execution_count": 7,
   "metadata": {},
   "outputs": [
    {
     "name": "stdout",
     "output_type": "stream",
     "text": [
      "True\n",
      "False\n",
      "You are not allowed in here\n",
      "Welcome to the casino\n"
     ]
    }
   ],
   "source": [
    "# Booleans are true or false\n",
    "print(5 > 3)\n",
    "print(100 < 0)\n",
    "\n",
    "# Most Booleans occur during an if...else statement\n",
    "age = 19\n",
    "if age > 21:\n",
    "    print(\"Welcome to the casino\")\n",
    "else:\n",
    "    print(\"You are not allowed in here\")\n",
    "age = 54\n",
    "if age > 21:\n",
    "    print(\"Welcome to the casino\")\n",
    "else:\n",
    "    print(\"You are not allowed in here\")\n"
   ]
  },
  {
   "cell_type": "markdown",
   "metadata": {},
   "source": [
    "## Pycharm Debugging\n",
    "- Running code \n",
    "- Set a break point\n",
    "- press the debug button\n",
    "- step through code\n",
    "- Kill bugs like a space marine"
   ]
  },
  {
   "cell_type": "markdown",
   "metadata": {},
   "source": [
    "## Git Basics\n",
    "- create a repo through github.com gui\n",
    "- git clone\n",
    "- .gitignore\n",
    "- git commands\n",
    "> git add .  \n",
    "> git commit -m \"relavane message\"  \n",
    "> git push  "
   ]
  }
 ],
 "metadata": {
  "kernelspec": {
   "display_name": "Python 3",
   "language": "python",
   "name": "python3"
  },
  "language_info": {
   "codemirror_mode": {
    "name": "ipython",
    "version": 3
   },
   "file_extension": ".py",
   "mimetype": "text/x-python",
   "name": "python",
   "nbconvert_exporter": "python",
   "pygments_lexer": "ipython3",
   "version": "3.7.0"
  }
 },
 "nbformat": 4,
 "nbformat_minor": 4
}
