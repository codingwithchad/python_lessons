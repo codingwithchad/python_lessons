{
 "cells": [
  {
   "cell_type": "markdown",
   "metadata": {},
   "source": [
    "#   Welcome To Python\n",
    "##  Lesson 0  Get the tools"
   ]
  },
  {
   "cell_type": "markdown",
   "metadata": {},
   "source": [
    "Step 1:\n",
    "Python Install https://www.w3schools.com/python/python_getstarted.asp\n",
    "Check to see if your computer has python installed\n",
    "\n",
    "PC - CMD\n",
    "> C:\\Users\\Your Name>python --version\n",
    "\n",
    "MAC/unix Open a terminal\n",
    "> python --version\n",
    "\n",
    "*If you find that you do not have python installed on your computer*, then you can download it for free from the following website: https://www.python.org/\n"
   ]
  },
  {
   "cell_type": "markdown",
   "metadata": {},
   "source": [
    "Step 2: \n",
    "Install Pycharm from https://www.jetbrains.com/pycharm/download"
   ]
  },
  {
   "cell_type": "markdown",
   "metadata": {},
   "source": [
    "Step 3:   \n",
    "Write your first program, Hello World\n",
    "[https://www.w3schools.com/python/python_getstarted.asp](https://www.w3schools.com/python/python_getstarted.asp)\n",
    "\n",
    "Using PyCharm write the hello world program"
   ]
  },
  {
   "cell_type": "markdown",
   "metadata": {},
   "source": [
    "Step 4: \n",
    "Register for [github.com](https://github.com/)\n",
    "Install git on your computer if it isn't already installed [https://git-scm.com/book/en/v2/Getting-Started-Installing-Git](https://git-scm.com/book/en/v2/Getting-Started-Installing-Git)\n"
   ]
  },
  {
   "cell_type": "code",
   "execution_count": null,
   "metadata": {},
   "outputs": [],
   "source": [
    "# Prints hello world to the terminal\n",
    "print(\"hello world\")"
   ]
  },
  {
   "cell_type": "markdown",
   "metadata": {},
   "source": [
    "### Homework \n",
    "### Review the source code of a finished product\n",
    "We will be looking at Zelda source code https://github.com/codingwithchad/zeldaGame\n",
    "The video with the developer can be found here https://www.youtube.com/watch?v=iRrMsxQCiJg"
   ]
  },
  {
   "cell_type": "markdown",
   "metadata": {},
   "source": [
    "Compare pygames Zelda to the Tutorials on https://www.w3schools.com/python/\n",
    "Try to find and example of following in both the Zelda code and the totorial.\n",
    "In a notepad, copy and paste the code you found and write down the file it was in and the line number in the format\n",
    "\n",
    "Variable: DIRT = 0 grid.py line 5\n",
    "\n",
    "1. Syntax - Indentation,  Comments\n",
    "2. Variabe\n",
    "3. Loop\n",
    "4. Conditionals\n",
    "5. Data Types - Strings, Numbers, int, float\n",
    "6. Booleans\n",
    "7. Operators\n",
    "8. List\n",
    "9. Tuple\n",
    "10. If...Elif statement\n",
    "11. function\n",
    "12. class"
   ]
  }
 ],
 "metadata": {
  "celltoolbar": "Raw Cell Format",
  "kernelspec": {
   "display_name": "Python 3",
   "language": "python",
   "name": "python3"
  },
  "language_info": {
   "codemirror_mode": {
    "name": "ipython",
    "version": 3
   },
   "file_extension": ".py",
   "mimetype": "text/x-python",
   "name": "python",
   "nbconvert_exporter": "python",
   "pygments_lexer": "ipython3",
   "version": "3.7.0"
  }
 },
 "nbformat": 4,
 "nbformat_minor": 4
}
