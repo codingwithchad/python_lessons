{
 "cells": [
  {
   "cell_type": "markdown",
   "metadata": {},
   "source": [
    "### Review Lesson 4\n",
    "\n",
    "Import pygame and initialize pygmae\n",
    "\n",
    "Add the game loop\n",
    "Add an exit event\n",
    "Change the title, logo, and background color of game window"
   ]
  },
  {
   "cell_type": "markdown",
   "metadata": {},
   "source": [
    "# Lesson 5\n",
    "Get something on the screen. Anything.\n",
    "\n",
    "### Add the Player\n",
    "\n",
    "1) Download the player icon\n",
    "    1) Go to www.flaticon.com and download the PNG image.\n",
    "    2) Can use any image you want, make sure it is 64 x 64px\n",
    "    3) Add the .PNG file to your project at the root level.\n"
   ]
  },
  {
   "cell_type": "markdown",
   "metadata": {},
   "source": [
    "### Laying out the game screen\n",
    "\n",
    "Our game screen is 800 width by 600 height\n",
    "Counting starts from the top left, and is position 0, 0\n",
    "\n",
    "If we start in the top left corner and move right, the X value starts to increase. On the top right corner the X value is 800.\n",
    "If we move in the top left corner and move down, the Y value starts to increase. When we are at the bottom, the Y value is 600.\n",
    "\n",
    "This is important, because we want to put our player on a specific position on the screen.\n",
    "\n",
    "\n",
    "Feel free to experiment with coordiantes on your own, but for now we will put it on a specific part of the screen."
   ]
  },
  {
   "cell_type": "code",
   "execution_count": null,
   "metadata": {},
   "outputs": [],
   "source": [
    "# Finally let's right some code\n",
    "\n",
    "# Player\n",
    "playerImg = pygame.image.load('player.img')\n",
    "playerX = 370\n",
    "playerY = 480\n",
    "\n",
    "# blit draws in image to the screen\n",
    "def player():\n",
    "    sceen.blit(playerImg, (playerX, playerY))\n",
    "    \n",
    "# inside the game loop\n",
    "\n",
    "player()\n"
   ]
  },
  {
   "cell_type": "markdown",
   "metadata": {},
   "source": [
    "Make sure to call the player() function after the screen.fill() function, because the screen is drawn in order. The first call is on the bottom. \n",
    "\n",
    "Make sure screen.fill() is above everything"
   ]
  },
  {
   "cell_type": "markdown",
   "metadata": {},
   "source": [
    "### Homework\n",
    "Get a player image\n",
    "Put the image on the screen.  \n",
    "Move the player around using the X and Y coordinates.  \n",
    "Get the background color working. \n",
    "\n",
    "Just play with what you know so far and get more famaliar with python and pygame"
   ]
  },
  {
   "cell_type": "code",
   "execution_count": null,
   "metadata": {},
   "outputs": [],
   "source": []
  }
 ],
 "metadata": {
  "kernelspec": {
   "display_name": "Python 3",
   "language": "python",
   "name": "python3"
  },
  "language_info": {
   "codemirror_mode": {
    "name": "ipython",
    "version": 3
   },
   "file_extension": ".py",
   "mimetype": "text/x-python",
   "name": "python",
   "nbconvert_exporter": "python",
   "pygments_lexer": "ipython3",
   "version": "3.7.0"
  }
 },
 "nbformat": 4,
 "nbformat_minor": 4
}
