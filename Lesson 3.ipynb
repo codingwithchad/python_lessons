{
 "cells": [
  {
   "cell_type": "markdown",
   "metadata": {},
   "source": [
    "### Lesson 2 Homework 1 Review\n",
    "\n",
    "Guessing Game"
   ]
  },
  {
   "cell_type": "markdown",
   "metadata": {},
   "source": [
    "### Lesson 2 Homework 2 Review\n",
    "\n",
    "Game Loop Battle"
   ]
  },
  {
   "cell_type": "markdown",
   "metadata": {},
   "source": [
    "### Lesson 3 Functions\n",
    "[https://www.w3schools.com/python/python_functions.asp](https://www.w3schools.com/python/python_functions.asp)\n",
    "A function is a block of code which only runs when it is called.  \n",
    "You can pass data, known as parameters, into a function.  \n",
    "A function can return data as a result.  \n",
    "\n",
    "define a function by using the `def` keywork\n",
    "\n",
    "Taking a look at the project https://github.com/codingwithchad/pygame_tutorial/blob/master/main.py\n",
    "Find a few examples of function.\n",
    "\n",
    "Defined on main.py line 87\n",
    "`\n",
    "def player0(x, y):\n",
    "    screen.blit(player_img, (x, y))\n",
    "`\n",
    "Called on line 197\n",
    "`player0(player_x, player_y)`"
   ]
  },
  {
   "cell_type": "code",
   "execution_count": 2,
   "metadata": {},
   "outputs": [],
   "source": [
    "# Create a function that prints hello from a function\n",
    "def print_hello():\n",
    "  print(\"Hello from a function\")\n"
   ]
  },
  {
   "cell_type": "code",
   "execution_count": 3,
   "metadata": {},
   "outputs": [
    {
     "name": "stdout",
     "output_type": "stream",
     "text": [
      "Hello from a function\n"
     ]
    }
   ],
   "source": [
    "# call a function by using the function name followed by parenthesis\n",
    "\n",
    "# prints hello from a function\n",
    "def print_hello():\n",
    "  print(\"Hello from a function\")\n",
    "\n",
    "print_hello()"
   ]
  },
  {
   "cell_type": "markdown",
   "metadata": {},
   "source": [
    "### Arguments in functions\n",
    "Arguments are information passed into a function.\n",
    "The arguments are added in the parenthesis, and are used the in exact order that are passed in.\n"
   ]
  },
  {
   "cell_type": "code",
   "execution_count": 5,
   "metadata": {},
   "outputs": [
    {
     "name": "stdout",
     "output_type": "stream",
     "text": [
      "Hello Mary,  what a lovely lamb you have\n",
      "Hello Ralph,  what a lovely cat you have\n",
      "Hello James,  what a lovely fish you have\n",
      "<class 'TypeError'>\n"
     ]
    }
   ],
   "source": [
    "# Greetingand and compliment\n",
    "# Function takes two arguments\n",
    "def greeting(first_name, animal):\n",
    "    print(f'Hello {first_name},  what a lovely {animal} you have')\n",
    "\n",
    "greeting(\"Mary\", \"lamb\")\n",
    "greeting(\"Ralph\", \"cat\")\n",
    "greeting(\"James\", \"fish\")\n",
    "\n",
    "# This will throw an error TypeError: greeting() missing 1 required positional argument: 'animal'\n",
    "try:\n",
    "    greeting(\"Ann\")\n",
    "except TypeError:\n",
    "    print(TypeError)"
   ]
  },
  {
   "cell_type": "code",
   "execution_count": 13,
   "metadata": {},
   "outputs": [
    {
     "name": "stdout",
     "output_type": "stream",
     "text": [
      "Hello Mary,  what a lovely lamb you have\n",
      "Hello Ralph,  what a lovely cat you have\n",
      "Hello James,  what a lovely fish you have\n",
      "Hello Ann,  what a lovely Dog you have\n"
     ]
    }
   ],
   "source": [
    "# Default Parameter Value\n",
    "\n",
    "def greeting(first_name, animal=\"Dog\"):\n",
    "    if animal:\n",
    "        print(f'Hello {first_name},  what a lovely {animal} you have')\n",
    "    else:\n",
    "        print(f'Hello {first_name}. It is a shame you don\\'t have an animal')\n",
    "\n",
    "greeting(\"Mary\", \"lamb\")\n",
    "greeting(\"Ralph\", \"cat\")\n",
    "greeting(\"James\", \"fish\")\n",
    "\n",
    "# This will throw an error TypeError: greeting() missing 1 required positional argument: 'animal'\n",
    "greeting(\"Ann\")\n"
   ]
  },
  {
   "cell_type": "markdown",
   "metadata": {},
   "source": [
    "Passing a List as an Argument"
   ]
  },
  {
   "cell_type": "code",
   "execution_count": 7,
   "metadata": {},
   "outputs": [
    {
     "name": "stdout",
     "output_type": "stream",
     "text": [
      "Armos\n",
      "Boulder\n",
      "Bubble\n",
      "Wizzrobe\n"
     ]
    }
   ],
   "source": [
    "def list_monsters(monsters):\n",
    "    for monster in monsters:\n",
    "        print(monster)\n",
    "\n",
    "all_monsters = [\"Armos\", \"Boulder\", \"Bubble\", \"Wizzrobe\"]\n",
    "\n",
    "list_monsters(all_monsters)"
   ]
  },
  {
   "cell_type": "markdown",
   "metadata": {},
   "source": [
    "### Return Values\n",
    "Use the `return` keyword"
   ]
  },
  {
   "cell_type": "code",
   "execution_count": 10,
   "metadata": {},
   "outputs": [
    {
     "name": "stdout",
     "output_type": "stream",
     "text": [
      "2\n",
      "4\n",
      "100\n",
      "20\n"
     ]
    }
   ],
   "source": [
    "'''\n",
    "the double_value function takes in a number and returns double the number'\n",
    "input: num, number\n",
    "output: number\n",
    "'''\n",
    "def double_value(num):\n",
    "    return num * 2\n",
    "\n",
    "print(double_value(1))\n",
    "print(double_value(2))\n",
    "my_value = double_value(50)\n",
    "print(my_value)\n",
    "hit = 10\n",
    "strong_hit = double_value(hit)\n",
    "print(strong_hit)\n",
    "\n"
   ]
  },
  {
   "cell_type": "markdown",
   "metadata": {},
   "source": [
    "### Classes\n",
    "A brief explaination of classes [https://www.w3schools.com/python/python_classes.asp](https://www.w3schools.com/python/python_classes.asp)\n",
    "\n",
    "Python is an object oriented programming language.\n",
    "Almost everything in Python is an object, with its properties and methods.\n",
    "A Class is like an object constructor, or a \"blueprint\" for creating objects.\n",
    "\n",
    "Look at the a class in the Zelda game[https://github.com/codingwithchad/zeldaGame](https://github.com/codingwithchad/zeldaGame)\n",
    "\n",
    "in lib/heroes.py look at the Link class\n",
    "`class LINK:`\n",
    "\n",
    "Now look at main.py line 3\n",
    "    `from lib import enemies, heroes, items`\n",
    "That imports the lib/heroes.py file\n",
    "Then look at line 10\n",
    "    `PLAYER = heroes.LINK()`\n",
    "That creates an instance of the class\n",
    "\n"
   ]
  },
  {
   "cell_type": "code",
   "execution_count": 13,
   "metadata": {},
   "outputs": [
    {
     "name": "stdout",
     "output_type": "stream",
     "text": [
      "100\n"
     ]
    }
   ],
   "source": [
    "# To create a class, use the class keywork.\n",
    "class Link:\n",
    "    health = 100\n",
    "\n",
    "# Create an object \n",
    "player = Link()\n",
    "print(player.health)"
   ]
  },
  {
   "cell_type": "markdown",
   "metadata": {},
   "source": [
    "The `__init__` function\n",
    "All classes have an `__init__` function which is always executed when the class is being initiated\n",
    "Use the `__init__()` function to assign values to object properties, or other operations that are necessary to do when the object is being created"
   ]
  },
  {
   "cell_type": "code",
   "execution_count": 24,
   "metadata": {},
   "outputs": [
    {
     "name": "stdout",
     "output_type": "stream",
     "text": [
      "Hi my name is McMuscles, I am 42 years old and I have 100 health\n",
      "Hi my name is Super Sidekick, I am 33 years old and I have 100 health\n",
      "Hi my name is McMuscles, I am 42 years old and I have 85 health\n"
     ]
    }
   ],
   "source": [
    "class Hero:\n",
    "    def __init__(self, name, age):\n",
    "        self.name = name\n",
    "        self.age = age\n",
    "        self.health = 100\n",
    "\n",
    "    def say_hello(self):\n",
    "        print(f'Hi my name is {self.name}, I am {self.age} years old and I have {self.health} health')\n",
    "        \n",
    "    def damage(self, hit):\n",
    "        self.health = self.health - hit\n",
    "        \n",
    "\n",
    "player0 = Hero(\"McMuscles\", 42)\n",
    "player1 = Hero(\"Super Sidekick\", 33)\n",
    "\n",
    "player0.say_hello()\n",
    "player1.say_hello()\n",
    "\n",
    "# player0 takes 15 damage\n",
    "player0.damage(15)\n",
    "player0.say_hello()\n",
    "\n",
    "# print(f'Hi my name is {player0.name}, I am {player0.age} years old and I have {player0.health} health')\n",
    "# print(f'Hi my name is {player1.name}, I am {player1.age} years old and I have {player1.health} health')"
   ]
  },
  {
   "cell_type": "markdown",
   "metadata": {},
   "source": [
    "homework 1\n",
    "\n",
    "Take the battle between hero and monster from the previous lesson.\n",
    "- Use only functions inside the while loop body.\n",
    "- Create a Hero object, assign the hero a name and an age and a starting health.\n",
    "- The Hero object should have an object method for damage.\n",
    "- Only functions should remain inside the while loop.\n",
    "        - the functions should all exist above the while loop or they won't work.\n",
    "- Each function should have a comment that explains what the function does in the following format using the three single quotes\n",
    "```\n",
    "line 1: explain what the function does\n",
    "line 2: input, what are the data types that are taken in\n",
    "line 3: output, what is the data type that is out\n",
    "'''\n",
    "the double_value function takes in a number and returns double the number'\n",
    "input: num \n",
    "    number type\n",
    "output: number\n",
    "'''\n",
    "```\n"
   ]
  },
  {
   "cell_type": "markdown",
   "metadata": {},
   "source": [
    "Looking ahead We will be making a Space Invaders clone based on the tutorial https://www.youtube.com/watch?v=FfWpgLFMI7w\n",
    "1. Create a game window\n",
    "2. Add a title and background\n",
    "3. Change the background colors\n",
    "4. Add images to the game"
   ]
  }
 ],
 "metadata": {
  "kernelspec": {
   "display_name": "Python 3",
   "language": "python",
   "name": "python3"
  },
  "language_info": {
   "codemirror_mode": {
    "name": "ipython",
    "version": 3
   },
   "file_extension": ".py",
   "mimetype": "text/x-python",
   "name": "python",
   "nbconvert_exporter": "python",
   "pygments_lexer": "ipython3",
   "version": "3.7.0"
  }
 },
 "nbformat": 4,
 "nbformat_minor": 4
}
