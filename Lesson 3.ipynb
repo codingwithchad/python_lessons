{
 "cells": [
  {
   "cell_type": "markdown",
   "metadata": {},
   "source": [
    "### Lesson 2 Homework 1 Review\n",
    "\n",
    "Guessing Game"
   ]
  },
  {
   "cell_type": "markdown",
   "metadata": {},
   "source": [
    "### Lesson 2 Homework 2 Review\n",
    "\n",
    "Game Loop Battle"
   ]
  },
  {
   "cell_type": "markdown",
   "metadata": {},
   "source": [
    "### Lesson 3 Functions\n",
    "[https://www.w3schools.com/python/python_functions.asp](https://www.w3schools.com/python/python_functions.asp)\n",
    "A function is a block of code which only runs when it is called.  \n",
    "You can pass data, known as parameters, into a function.  \n",
    "A function can return data as a result.  \n",
    "\n",
    "define a function by using the `def` keywork\n",
    "\n",
    "Taking a look at the project https://github.com/codingwithchad/pygame_tutorial/blob/master/main.py\n",
    "Find a few examples of function.\n",
    "\n",
    "Defined on main.py line 87\n",
    "`\n",
    "def player0(x, y):\n",
    "    screen.blit(player_img, (x, y))\n",
    "`\n",
    "Called on line 197\n",
    "`player0(player_x, player_y)`"
   ]
  },
  {
   "cell_type": "code",
   "execution_count": 2,
   "metadata": {},
   "outputs": [],
   "source": [
    "# Create a function that prints hello from a function\n",
    "def print_hello():\n",
    "  print(\"Hello from a function\")\n"
   ]
  },
  {
   "cell_type": "code",
   "execution_count": 3,
   "metadata": {},
   "outputs": [
    {
     "name": "stdout",
     "output_type": "stream",
     "text": [
      "Hello from a function\n"
     ]
    }
   ],
   "source": [
    "# call a function by using the function name followed by parenthesis\n",
    "\n",
    "# prints hello from a function\n",
    "def print_hello():\n",
    "  print(\"Hello from a function\")\n",
    "\n",
    "print_hello()"
   ]
  },
  {
   "cell_type": "markdown",
   "metadata": {},
   "source": [
    "### Arguments in functions\n",
    "Arguments are information passed into a function.\n",
    "The arguments are added in the parenthesis, and are used the in exact order that are passed in.\n"
   ]
  },
  {
   "cell_type": "code",
   "execution_count": 11,
   "metadata": {},
   "outputs": [
    {
     "name": "stdout",
     "output_type": "stream",
     "text": [
      "Hello Mary,  what a lovely lamb you have\n",
      "Hello Ralph,  what a lovely cat you have\n",
      "Hello James,  what a lovely fish you have\n"
     ]
    },
    {
     "ename": "TypeError",
     "evalue": "greeting() missing 1 required positional argument: 'animal'",
     "output_type": "error",
     "traceback": [
      "\u001b[1;31m---------------------------------------------------------------------------\u001b[0m",
      "\u001b[1;31mTypeError\u001b[0m                                 Traceback (most recent call last)",
      "\u001b[1;32m<ipython-input-11-ede8b94fe3e2>\u001b[0m in \u001b[0;36m<module>\u001b[1;34m\u001b[0m\n\u001b[0;32m      9\u001b[0m \u001b[1;33m\u001b[0m\u001b[0m\n\u001b[0;32m     10\u001b[0m \u001b[1;31m# This will throw an error TypeError: greeting() missing 1 required positional argument: 'animal'\u001b[0m\u001b[1;33m\u001b[0m\u001b[1;33m\u001b[0m\u001b[0m\n\u001b[1;32m---> 11\u001b[1;33m \u001b[0mgreeting\u001b[0m\u001b[1;33m(\u001b[0m\u001b[1;34m\"Ann\"\u001b[0m\u001b[1;33m)\u001b[0m\u001b[1;33m\u001b[0m\u001b[0m\n\u001b[0m",
      "\u001b[1;31mTypeError\u001b[0m: greeting() missing 1 required positional argument: 'animal'"
     ]
    }
   ],
   "source": [
    "# Greetingand and compliment\n",
    "# Function takes two arguments\n",
    "def greeting(first_name, animal):\n",
    "    print(f'Hello {first_name},  what a lovely {animal} you have')\n",
    "\n",
    "greeting(\"Mary\", \"lamb\")\n",
    "greeting(\"Ralph\", \"cat\")\n",
    "greeting(\"James\", \"fish\")\n",
    "\n",
    "# This will throw an error TypeError: greeting() missing 1 required positional argument: 'animal'\n",
    "greeting(\"Ann\")"
   ]
  },
  {
   "cell_type": "code",
   "execution_count": 13,
   "metadata": {},
   "outputs": [
    {
     "name": "stdout",
     "output_type": "stream",
     "text": [
      "Hello Mary,  what a lovely lamb you have\n",
      "Hello Ralph,  what a lovely cat you have\n",
      "Hello James,  what a lovely fish you have\n",
      "Hello Ann,  what a lovely Dog you have\n"
     ]
    }
   ],
   "source": [
    "# Default Parameter Value\n",
    "\n",
    "def greeting(first_name, animal=\"Dog\"):\n",
    "    if animal:\n",
    "        print(f'Hello {first_name},  what a lovely {animal} you have')\n",
    "    else:\n",
    "        print(f'Hello {first_name}. It is a shame you don\\'t have an animal')\n",
    "\n",
    "greeting(\"Mary\", \"lamb\")\n",
    "greeting(\"Ralph\", \"cat\")\n",
    "greeting(\"James\", \"fish\")\n",
    "\n",
    "# This will throw an error TypeError: greeting() missing 1 required positional argument: 'animal'\n",
    "greeting(\"Ann\")\n"
   ]
  },
  {
   "cell_type": "markdown",
   "metadata": {},
   "source": [
    "### Return Values"
   ]
  }
 ],
 "metadata": {
  "kernelspec": {
   "display_name": "Python 3",
   "language": "python",
   "name": "python3"
  },
  "language_info": {
   "codemirror_mode": {
    "name": "ipython",
    "version": 3
   },
   "file_extension": ".py",
   "mimetype": "text/x-python",
   "name": "python",
   "nbconvert_exporter": "python",
   "pygments_lexer": "ipython3",
   "version": "3.7.0"
  }
 },
 "nbformat": 4,
 "nbformat_minor": 4
}
