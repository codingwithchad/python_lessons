{
 "cells": [
  {
   "cell_type": "markdown",
   "metadata": {},
   "source": [
    "## Lesson 2. Let the fun begin"
   ]
  },
  {
   "cell_type": "markdown",
   "metadata": {},
   "source": [
    "Operators [https://www.w3schools.com/python/python_operators.asp](https://www.w3schools.com/python/python_operators.asp)\n",
    "\n",
    "Arithmatic Operators\n",
    "- Addition\tx + y\n",
    "- Subtraction\tx - y\n",
    "- Multiplication\tx * y\n",
    "- Division\tx / y\n",
    "- Module\tx % y\n",
    "- Exponent\tx** y\n",
    "- Floor division x  // y\n"
   ]
  },
  {
   "cell_type": "code",
   "execution_count": 1,
   "metadata": {},
   "outputs": [
    {
     "name": "stdout",
     "output_type": "stream",
     "text": [
      "7\n",
      "3\n",
      "10\n",
      "2.5\n",
      "2\n",
      "1\n"
     ]
    }
   ],
   "source": [
    "x = 5\n",
    "y = 2\n",
    "\n",
    "# Add x and y\n",
    "print(x + y)  # Should print 7\n",
    "\n",
    "# Subtract x from y\n",
    "print(x - y)  # Should print 3\n",
    "\n",
    "# Multiply x and y\n",
    "print(x * y)  # Should print 10\n",
    "\n",
    "# Divide X into y float style\n",
    "print(x / y)  # Should print 2.5\n",
    "\n",
    "# Divide X into Y int style\n",
    "print(x // y)  # Should print 2\n",
    "\n",
    "# Get the remainder. % is called a modulo\n",
    "print(x % y)  # Should print 1"
   ]
  },
  {
   "cell_type": "markdown",
   "metadata": {},
   "source": [
    "Assignment Operators\n",
    "- hit_points = 100\n",
    "- hit_points += 50\n",
    "- hit_points -= 100"
   ]
  },
  {
   "cell_type": "code",
   "execution_count": 2,
   "metadata": {},
   "outputs": [
    {
     "name": "stdout",
     "output_type": "stream",
     "text": [
      "100\n",
      "150\n",
      "50\n"
     ]
    }
   ],
   "source": [
    "# The hero starts with 100 hitpoints.\n",
    "hit_points = 100\n",
    "print(hit_points)\n",
    "\n",
    "# The hero finds a herb that adds 50 hit points\n",
    "hit_points += 50 # hit_points = hit_points + 50\n",
    "print(hit_points)\n",
    "\n",
    "# The hero is attacked my a cat\n",
    "hit_points -= 100 # same as hit_points = hit_points - 100\n",
    "print(hit_points)"
   ]
  },
  {
   "cell_type": "markdown",
   "metadata": {},
   "source": [
    "Python Comparison Operators [https://www.w3schools.com/python/python_operators.asp](https://www.w3schools.com/python/python_operators.asp)\n",
    "- ==\tequals  \n",
    "- !=\tnot equals  \n",
    "- \\> \tgreater than  \n",
    "- \\< \tless than  \n",
    "- \\>=\tgreater than or equal to  \n",
    "- \\<= \tless than or equal to   "
   ]
  },
  {
   "cell_type": "code",
   "execution_count": 3,
   "metadata": {},
   "outputs": [
    {
     "name": "stdout",
     "output_type": "stream",
     "text": [
      "Welcome hero\n",
      "You can't really read my mind\n",
      "the hero can move a boulder\n",
      "your health is getting really low.\n",
      "welcome to the gambling hall\n",
      "You are now dead\n"
     ]
    }
   ],
   "source": [
    "hero_status = \"good\" # Assignment operator uses single =\n",
    "\n",
    "# Equals\n",
    "if hero_status == \"good\": # Comparison operator uses double ==\n",
    "    print(\"Welcome hero\")\n",
    "else:\n",
    "    print(\"Your mother was a hamster!\")\n",
    "\n",
    "# Not equals\n",
    "guess_a_number = 3\n",
    "if guess_a_number != 10:\n",
    "    print(\"You can't really read my mind\")\n",
    "    \n",
    "# Greater Than\n",
    "hero_strength = 50\n",
    "if hero_strength > 30:\n",
    "    print(\"the hero can move a boulder\")\n",
    "  \n",
    "# Less Than\n",
    "hero_hit_points = 10\n",
    "if hero_hit_points < 50:\n",
    "    print(\"your health is getting really low.\")\n",
    "\n",
    "# Greater than or eual\n",
    "hero_age = 21\n",
    "if hero_age >= 21:\n",
    "    print(\"welcome to the gambling hall\")\n",
    "\n",
    "hero_health = -5\n",
    "if hero_health <= 0:\n",
    "    print(\"You are now dead\")"
   ]
  },
  {
   "cell_type": "markdown",
   "metadata": {},
   "source": [
    "Data Structures\n",
    "- List [https://www.w3schools.com/python/python_lists.asp](https://www.w3schools.com/python/python_lists.asp)  \n",
    "- Tuple  [https://www.w3schools.com/python/python_tuples.asp](https://www.w3schools.com/python/python_tuples.asp)\n",
    "- Dictionary  [https://www.w3schools.com/python/python_dictionaries.asp](https://www.w3schools.com/python/python_dictionaries.asp)"
   ]
  },
  {
   "cell_type": "markdown",
   "metadata": {},
   "source": [
    "List A list is a collection which is ordered and changeable. \n",
    "In Python lists are written with square brackets."
   ]
  },
  {
   "cell_type": "code",
   "execution_count": null,
   "metadata": {},
   "outputs": [],
   "source": [
    "# A list of enemies in Zelda\n",
    "monsters = [\"Armos\", \"Boulder\", \"Bubble\", \"Wizzrobe\"]\n",
    "print(monsters)\n",
    "\n",
    "# print Boulder\n",
    "print(monsters[1])\n",
    "\n",
    "# print the length of the list\n",
    "print(len(monsters))\n",
    "\n",
    "# print a range of the list\n",
    "print(monsters[1:3])"
   ]
  },
  {
   "cell_type": "markdown",
   "metadata": {},
   "source": [
    "A tuple is a collection which is ordered and unchangeable. \n",
    "In Python tuples are written with round brackets."
   ]
  },
  {
   "cell_type": "code",
   "execution_count": 4,
   "metadata": {
    "scrolled": true
   },
   "outputs": [
    {
     "name": "stdout",
     "output_type": "stream",
     "text": [
      "(200, 200, 200)\n",
      "200\n"
     ]
    }
   ],
   "source": [
    "# Tuples are used quite a bit with RGB colors\n",
    "# The amount of Red, Green, and blue between 0 and 255\n",
    "# COLORS\n",
    "WHITE = (200, 200, 200)\n",
    "BLACK = (0, 0, 0)\n",
    "BLUE = (30, 144, 255)\n",
    "GREEN = (60, 179, 113)\n",
    "RED = (178, 0, 0)\n",
    "\n",
    "print(WHITE)\n",
    "print(WHITE[0])\n",
    "\n",
    "# Once a tuple is created, you cannot change its values. Tuples are unchangeable, or immutable as it also is called."
   ]
  },
  {
   "cell_type": "markdown",
   "metadata": {},
   "source": [
    "A dictionary is a collection which is unordered, changeable and indexed. In Python dictionaries are written with curly brackets, and they have keys and values."
   ]
  },
  {
   "cell_type": "code",
   "execution_count": 5,
   "metadata": {},
   "outputs": [
    {
     "name": "stdout",
     "output_type": "stream",
     "text": [
      "{'name': 'fredrick', 'strength': 10, 'age': 18}\n",
      "fredrick\n",
      "walk along son\n",
      "Hero drinks his protein shake\n",
      "You can move a boulder\n"
     ]
    }
   ],
   "source": [
    "# Create a dictionary\n",
    "hero = {\n",
    "  \"name\": \"fredrick\",\n",
    "  \"strength\": 10,\n",
    "  \"age\": 18\n",
    "}\n",
    "# Print a dictionary\n",
    "print(hero)\n",
    "\n",
    "# Access an item in the dictionary\n",
    "print(hero[\"name\"])\n",
    "\n",
    "if hero[\"strength\"] >= 20:\n",
    "    print(\"You can move a boulder\")\n",
    "else:\n",
    "    print(\"walk along son\")\n",
    "\n",
    "# Change the value of a dictionary\n",
    "print(\"Hero drinks his protein shake\")\n",
    "hero[\"strength\"] = 50\n",
    "if hero[\"strength\"] >= 20:\n",
    "    print(\"You can move a boulder\")\n",
    "else:\n",
    "    print(\"walk along son\")\n"
   ]
  },
  {
   "cell_type": "markdown",
   "metadata": {},
   "source": [
    "Python if...else [https://www.w3schools.com/python/python_conditions.asp](https://www.w3schools.com/python/python_conditions.asp)\n",
    "This has been covered with booleans in lesson 1 and comparison operators in lesson 2\n",
    "If you have any further questions about them, just ask\n"
   ]
  },
  {
   "cell_type": "markdown",
   "metadata": {},
   "source": [
    "Loops\n",
    " - while Loop (https://www.w3schools.com/python/python_while_loops.asp)[https://www.w3schools.com/python/python_while_loops.asp]\n",
    " The while loop we can execute a set of statements as long as a condition is true.\n",
    " - for loop (https://www.w3schools.com/python/python_for_loops.asp)[https://www.w3schools.com/python/python_for_loops.asp]\n",
    "  for loop is used for iterating over a sequence (that is either a list, a tuple, a dictionary, a set, or a string).\n",
    " - Range The range() function. To loop through a set of code a specified number of times, we can use the range() function,"
   ]
  },
  {
   "cell_type": "code",
   "execution_count": 6,
   "metadata": {},
   "outputs": [
    {
     "name": "stdout",
     "output_type": "stream",
     "text": [
      "You got hit. You have 4 left\n",
      "You got hit. You have 3 left\n",
      "You got hit. You have 2 left\n",
      "You got hit. You have 1 left\n",
      "You got hit. You have 0 left\n",
      "You are now dead\n"
     ]
    }
   ],
   "source": [
    "# The while loop will execute until health is less than 0\n",
    "health = 5\n",
    "while health > 0:\n",
    "    health -= 1 # This decrements health by 1\n",
    "    print(f'You got hit. You have {health} left' )\n",
    "print(\"You are now dead\")"
   ]
  },
  {
   "cell_type": "code",
   "execution_count": 7,
   "metadata": {},
   "outputs": [
    {
     "name": "stdout",
     "output_type": "stream",
     "text": [
      "You got hit. You have 4 left\n",
      "You got hit. You have 3 left\n",
      "You were saved by your guardian angel\n"
     ]
    }
   ],
   "source": [
    "# Whille loop break statment\n",
    "health = 5\n",
    "while health > 0:\n",
    "    health -= 1 # This decrements health by 1\n",
    "    print(f'You got hit. You have {health} left' )\n",
    "    # if health euqals 3, break out of the loop\n",
    "    if health == 3:\n",
    "        break\n",
    "# You are dead if health is less than or equal to zero    \n",
    "# Else print you were saved...\n",
    "if health <= 0:\n",
    "    print(\"You are now dead\")\n",
    "else: \n",
    "    print(\"You were saved by your guardian angel\")"
   ]
  },
  {
   "cell_type": "code",
   "execution_count": 15,
   "metadata": {},
   "outputs": [
    {
     "name": "stdout",
     "output_type": "stream",
     "text": [
      "Armos\n",
      "Boulder\n",
      "Bubble\n",
      "Wizzrobe\n",
      "A boulder fell on you\n"
     ]
    }
   ],
   "source": [
    "# for loops are used to iterate over a sequence (list, tuple, etc)\n",
    "# A list of enemies in Zelda\n",
    "monsters = [\"Armos\", \"Boulder\", \"Bubble\", \"Wizzrobe\"]\n",
    "for monster in monsters:\n",
    "    print(monster)\n",
    "\n",
    "# For loops can use a break statement too\n",
    "for monster in monsters:\n",
    "    if monster == \"Boulder\":\n",
    "        print(\"A boulder fell on you\")\n",
    "        break"
   ]
  },
  {
   "cell_type": "markdown",
   "metadata": {},
   "source": [
    "Range is the count"
   ]
  },
  {
   "cell_type": "code",
   "execution_count": 8,
   "metadata": {},
   "outputs": [
    {
     "name": "stdout",
     "output_type": "stream",
     "text": [
      "0\n",
      "1\n",
      "2\n",
      "3\n",
      "4\n"
     ]
    }
   ],
   "source": [
    "# count from 1 to n. n being the number.\n",
    "# i is commonly used as an iterator \n",
    "# Remember counting begins with 0\n",
    "for i in range(5):\n",
    "    print(i)"
   ]
  },
  {
   "cell_type": "code",
   "execution_count": 23,
   "metadata": {},
   "outputs": [
    {
     "name": "stdout",
     "output_type": "stream",
     "text": [
      "4\n",
      " \n",
      " 0 Armos\n",
      " 1 Boulder\n",
      " 2 Bubble\n",
      " 3 Wizzrobe\n"
     ]
    }
   ],
   "source": [
    "# Range is commonly used with the length of a list\n",
    "monsters = [\"Armos\", \"Boulder\", \"Bubble\", \"Wizzrobe\"]\n",
    "print(len(monsters))\n",
    "print(\" \")\n",
    "for i in range(len(monsters)):\n",
    "    print(f' {i} {monsters[i]}')"
   ]
  },
  {
   "cell_type": "markdown",
   "metadata": {},
   "source": [
    "Random number generator [https://www.w3schools.com/python/ref_random_randint.asp](https://www.w3schools.com/python/ref_random_randint.asp)\n",
    "Import gets a library of data, do you don't have to write the code from scratch."
   ]
  },
  {
   "cell_type": "code",
   "execution_count": 11,
   "metadata": {},
   "outputs": [
    {
     "name": "stdout",
     "output_type": "stream",
     "text": [
      "12\n"
     ]
    }
   ],
   "source": [
    "import random\n",
    "\n",
    "# Generate a random number between 0 and 100\n",
    "# The randint() method returns an integer number selected element from the specified range.\n",
    "# 0 and 101 means generate a number between start at 0 and stop at 100\n",
    "my_number = random.randint(0, 100)\n",
    "print(my_number)"
   ]
  },
  {
   "cell_type": "markdown",
   "metadata": {},
   "source": [
    "User Input [https://www.w3schools.com/python/python_user_input.asp](https://www.w3schools.com/python/python_user_input.asp)\n",
    "This means stop and wait for user input.\n",
    "This isn't often used in production, but we will use it to create a game on the command line"
   ]
  },
  {
   "cell_type": "code",
   "execution_count": 12,
   "metadata": {},
   "outputs": [
    {
     "name": "stdout",
     "output_type": "stream",
     "text": [
      "What is your name hero?Erdrick\n",
      "Erdrick is the name of a brave warrior\n"
     ]
    }
   ],
   "source": [
    "hero_name = input(\"What is your name hero?\")\n",
    "print(f'{hero_name} is the name of a brave warrior')"
   ]
  },
  {
   "cell_type": "markdown",
   "metadata": {},
   "source": [
    "Homework 1:\n",
    "Create a guessing game \n",
    "Using random, the computer thinks of a number between 1 and 100 (or 1,000 or whatever you choose)\n",
    "Using a while loop, The user has 3 tries (or 4 or 5) Just please don't make the loop infinite\n",
    "Using input, the user needs to input a number\n",
    "Use conditionals display a message if the user guesses too high or too low\n",
    "\n",
    "Stretch\n",
    "Create a guessing game, where the you think of a number and the computer guesses.\n",
    "The user has to let the computer know if the computer guesses too high or too low.\n",
    "Ts the beginning of AI, or just using binary search algorithm ;)"
   ]
  },
  {
   "cell_type": "code",
   "execution_count": null,
   "metadata": {},
   "outputs": [],
   "source": [
    "import random\n",
    "\n",
    "# The computer will think of a number between 1 and 10\n",
    "number = random.randint(1, 10)\n",
    "guesses = 3\n",
    "print(\"I'm thinking of a number between 1 and 10\")\n",
    "while guesses > 0:\n",
    "    user_guess = int(input(\"what is your guess?\"))\n",
    "    \n",
    "    # Compare with number entered\n",
    "    if user_guess == number:\n",
    "        print(f'WOW! my number was {number} You can read minds!\")\n",
    "        break\n",
    "    elif user_guess > number:\n",
    "        print(\"Your guess is too high\")\n",
    "    else:\n",
    "        print(\"Your guess is too low\")\n",
    "    guesses -= 1\n",
    "    if guesses <= 0:\n",
    "        print(f'I\\'m sorry, but my number was {number}')\n"
   ]
  },
  {
   "cell_type": "markdown",
   "metadata": {},
   "source": [
    "Homework 2:\n",
    "Create a battle between a hero and a monster. Use your imagination.\n",
    "- Use a while loop. while hero health is greater than 0 and monster health is greater than 0\n",
    "- use input for each loop, even if it just hitting the enter button\n",
    "- use a random number generated for damage each round\n",
    "- use operators to subtract health of the hero and monster\n",
    "- use if...else conditions to display who died and who was the winner\n",
    "\n",
    "Stretch goal\n",
    "- use a list to hold a variety of monsters\n",
    "- use a random number with the range of the length of the monsters list to get a random monster for the hero to battle\n",
    "- Add a random number if the random number hits a specific number there is a lucky blow or something and the damage is double.\n",
    "- Add a random number if it is hit, you get healed "
   ]
  },
  {
   "cell_type": "code",
   "execution_count": null,
   "metadata": {},
   "outputs": [],
   "source": []
  }
 ],
 "metadata": {
  "kernelspec": {
   "display_name": "Python 3",
   "language": "python",
   "name": "python3"
  },
  "language_info": {
   "codemirror_mode": {
    "name": "ipython",
    "version": 3
   },
   "file_extension": ".py",
   "mimetype": "text/x-python",
   "name": "python",
   "nbconvert_exporter": "python",
   "pygments_lexer": "ipython3",
   "version": "3.7.0"
  }
 },
 "nbformat": 4,
 "nbformat_minor": 4
}
