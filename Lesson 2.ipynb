{
 "cells": [
  {
   "cell_type": "markdown",
   "metadata": {},
   "source": [
    "## Lesson 2. Let the fun begin"
   ]
  },
  {
   "cell_type": "markdown",
   "metadata": {},
   "source": [
    "Operators [https://www.w3schools.com/python/python_operators.asp](https://www.w3schools.com/python/python_operators.asp)\n",
    "\n",
    "Arithmatic Operators\n",
    "- Addition\tx + y\n",
    "- Subtraction\tx - y\n",
    "- Multiplication\tx * y\n",
    "- Division\tx / y\n",
    "- Module\tx % y\n",
    "- Exponent\tx** y\n",
    "- Floor division x  // y\n"
   ]
  },
  {
   "cell_type": "code",
   "execution_count": 1,
   "metadata": {},
   "outputs": [
    {
     "name": "stdout",
     "output_type": "stream",
     "text": [
      "7\n",
      "3\n",
      "10\n",
      "2.5\n",
      "2\n",
      "1\n"
     ]
    }
   ],
   "source": [
    "x = 5\n",
    "y = 2\n",
    "# Add x and y\n",
    "print(x + y)  # Should print 7\n",
    "\n",
    "# Subtract x from y\n",
    "print(x - y)  # Should print 3\n",
    "\n",
    "# Multiply x and y\n",
    "print(x * y)  # Should print 10\n",
    "\n",
    "# Divide X into y float style\n",
    "print(x / y)  # Should print 2.5\n",
    "\n",
    "# Divide X into Y int style\n",
    "print(x // y)  # Should print 2\n",
    "\n",
    "# Get the remainder. % is called a modulo\n",
    "print(x % y)  # Should print 1"
   ]
  },
  {
   "cell_type": "markdown",
   "metadata": {},
   "source": [
    "Assignment Operators\n",
    "- hit_points = 100\n",
    "- hit_points += 50\n",
    "- hit_points -= 100"
   ]
  },
  {
   "cell_type": "code",
   "execution_count": 4,
   "metadata": {},
   "outputs": [
    {
     "name": "stdout",
     "output_type": "stream",
     "text": [
      "100\n",
      "150\n",
      "50\n"
     ]
    }
   ],
   "source": [
    "# The hero starts with 100 hitpoints.\n",
    "hit_points = 100\n",
    "print(hit_points)\n",
    "\n",
    "# The hero finds a herb that adds 50 hit points\n",
    "hit_points += 50\n",
    "print(hit_points)\n",
    "\n",
    "# The hero is attacked my a cat\n",
    "hit_points -= 100\n",
    "print(hit_points)"
   ]
  },
  {
   "cell_type": "markdown",
   "metadata": {},
   "source": [
    "Python Comparison Operators [https://www.w3schools.com/python/python_operators.asp](https://www.w3schools.com/python/python_operators.asp)\n",
    "- ==\tequals  \n",
    "- !=\tnot equals  \n",
    "- \\> \tgreater than  \n",
    "- \\< \tless than  \n",
    "- \\>=\tgreater than or equal to  \n",
    "- \\<= \tless than or equal to   "
   ]
  },
  {
   "cell_type": "code",
   "execution_count": 8,
   "metadata": {},
   "outputs": [
    {
     "name": "stdout",
     "output_type": "stream",
     "text": [
      "Welcome hero\n",
      "You can't really read my mind\n",
      "the hero can move a boulder\n",
      "your health is getting really low.\n",
      "welcome to the gambling hall\n",
      "You are now dead\n"
     ]
    }
   ],
   "source": [
    "hero_status = \"good\" # Assignment operator uses single =\n",
    "\n",
    "# Equals\n",
    "if hero_status == \"good\": # Comparison operator uses double ==\n",
    "    print(\"Welcome hero\")\n",
    "else:\n",
    "    print(\"Your mother was a hamster!\")\n",
    "\n",
    "# Not equals\n",
    "guess_a_number = 3\n",
    "if guess_a_number != 10:\n",
    "    print(\"You can't really read my mind\")\n",
    "    \n",
    "# Greater Than\n",
    "hero_strength = 50\n",
    "if hero_strength > 30:\n",
    "    print(\"the hero can move a boulder\")\n",
    "  \n",
    "# Less Than\n",
    "hero_hit_points = 10\n",
    "if hero_hit_points < 50:\n",
    "    print(\"your health is getting really low.\")\n",
    "\n",
    "# Greater than or eual\n",
    "hero_age = 21\n",
    "if hero_age >= 21:\n",
    "    print(\"welcome to the gambling hall\")\n",
    "\n",
    "hero_health = -5\n",
    "if hero_health <= 0:\n",
    "    print(\"You are now dead\")"
   ]
  },
  {
   "cell_type": "code",
   "execution_count": null,
   "metadata": {},
   "outputs": [],
   "source": []
  }
 ],
 "metadata": {
  "kernelspec": {
   "display_name": "Python 3",
   "language": "python",
   "name": "python3"
  },
  "language_info": {
   "codemirror_mode": {
    "name": "ipython",
    "version": 3
   },
   "file_extension": ".py",
   "mimetype": "text/x-python",
   "name": "python",
   "nbconvert_exporter": "python",
   "pygments_lexer": "ipython3",
   "version": "3.7.0"
  }
 },
 "nbformat": 4,
 "nbformat_minor": 4
}
